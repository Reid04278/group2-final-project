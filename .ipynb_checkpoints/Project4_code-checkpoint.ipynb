{
 "cells": [
  {
   "cell_type": "code",
   "execution_count": null,
   "id": "45aeda88",
   "metadata": {},
   "outputs": [],
   "source": [
    "# Import Dependencies\n",
    "from sqlachemy.ext.automap import automap_base\n",
    "import pandas as pd\n",
    "import sklearn as skl\n",
    "import matplotlib.pyploy as plt\n"
   ]
  },
  {
   "cell_type": "code",
   "execution_count": null,
   "id": "505ee6e7",
   "metadata": {},
   "outputs": [],
   "source": [
    "# Get tabels from PostgreSQL and convert into Pandas DataFrame"
   ]
  },
  {
   "cell_type": "markdown",
   "id": "2e530ac0",
   "metadata": {},
   "source": [
    "# Preprocessing"
   ]
  },
  {
   "cell_type": "code",
   "execution_count": null,
   "id": "84af8a2f",
   "metadata": {},
   "outputs": [],
   "source": [
    "# Use Preprocessing methods"
   ]
  },
  {
   "cell_type": "code",
   "execution_count": null,
   "id": "ed58d7ab",
   "metadata": {},
   "outputs": [],
   "source": [
    "# Get our target and features arrays"
   ]
  },
  {
   "cell_type": "code",
   "execution_count": null,
   "id": "d3f9ce30",
   "metadata": {},
   "outputs": [],
   "source": [
    "# Split into testing and training set"
   ]
  },
  {
   "cell_type": "markdown",
   "id": "6a2797cc",
   "metadata": {},
   "source": [
    "# First XGBOOST Model"
   ]
  },
  {
   "cell_type": "code",
   "execution_count": null,
   "id": "c8c4d5c0",
   "metadata": {},
   "outputs": [],
   "source": [
    "# Create the first XGBoost Model"
   ]
  },
  {
   "cell_type": "code",
   "execution_count": null,
   "id": "4de2b49f",
   "metadata": {},
   "outputs": [],
   "source": [
    "# Calculate Accuracy"
   ]
  },
  {
   "cell_type": "markdown",
   "id": "e963fe76",
   "metadata": {},
   "source": [
    "# Optimizing the Model"
   ]
  },
  {
   "cell_type": "code",
   "execution_count": null,
   "id": "2df5b244",
   "metadata": {},
   "outputs": [],
   "source": [
    "# Optimize the model by dropping colums from the dataframe, etc and calculate accuracy again"
   ]
  },
  {
   "cell_type": "markdown",
   "id": "3775904f",
   "metadata": {},
   "source": [
    "# Optimize model one more time (If haven't reached 75% accuracy)"
   ]
  },
  {
   "cell_type": "code",
   "execution_count": null,
   "id": "ee1c471f",
   "metadata": {},
   "outputs": [],
   "source": [
    "# If accuracy is still not at 75% or higher, optimize the model one more time and calculate accuracy"
   ]
  }
 ],
 "metadata": {
  "kernelspec": {
   "display_name": "Python [conda env:pythondata] *",
   "language": "python",
   "name": "conda-env-pythondata-py"
  },
  "language_info": {
   "codemirror_mode": {
    "name": "ipython",
    "version": 3
   },
   "file_extension": ".py",
   "mimetype": "text/x-python",
   "name": "python",
   "nbconvert_exporter": "python",
   "pygments_lexer": "ipython3",
   "version": "3.10.9"
  }
 },
 "nbformat": 4,
 "nbformat_minor": 5
}
